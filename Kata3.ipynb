{
 "cells": [
  {
   "cell_type": "markdown",
   "metadata": {},
   "source": [
    "#Programa de Advertencia sobre asteroide.  \n",
    "Parte 1  \n",
    "Alerta inicial"
   ]
  },
  {
   "cell_type": "code",
   "execution_count": 4,
   "metadata": {},
   "outputs": [
    {
     "name": "stdout",
     "output_type": "stream",
     "text": [
      "Este programa te advierte si un asteroide se acerca a la Tierra demasiado rápido.\n",
      "Este asteroide no se merece una advertencia.\n"
     ]
    }
   ],
   "source": [
    "print(\"Este programa te advierte si un asteroide se acerca a la Tierra demasiado rápido.\")\n",
    "v_asteroid=19\n",
    "if v_asteroid>25:\n",
    "    print(\"¡Peligro, un asteroide se aproxima demasiado rápido a la Tierra!\")\n",
    "else:\n",
    "    print(\"Este asteroide no se merece una advertencia.\")"
   ]
  },
  {
   "cell_type": "markdown",
   "metadata": {},
   "source": [
    "Parte 2  \n",
    "Agregando verificación de rayo de luz visible desde la tierra."
   ]
  },
  {
   "cell_type": "code",
   "execution_count": 13,
   "metadata": {},
   "outputs": [
    {
     "name": "stdout",
     "output_type": "stream",
     "text": [
      "No habrá nada esta vez\n"
     ]
    }
   ],
   "source": [
    "v_asteroid=19\n",
    "\n",
    "if v_asteroid>20:\n",
    "    print(\"¡Voltea al cielo! Es posible que veas un rayo.\")\n",
    "elif v_asteroid == 20:\n",
    "    print(\"¡Voltea al cielo! Es posible que veas un rayo.\")\n",
    "else:\n",
    "    print(\"No habrá nada esta vez\")"
   ]
  },
  {
   "cell_type": "markdown",
   "metadata": {},
   "source": [
    "Parte 3  \n",
    "Incorporando And y Or"
   ]
  },
  {
   "cell_type": "code",
   "execution_count": 8,
   "metadata": {},
   "outputs": [
    {
     "name": "stdout",
     "output_type": "stream",
     "text": [
      "¡Voltea al cielo! Es posible que veas un rayo.\n"
     ]
    }
   ],
   "source": [
    "#Variables del asteroide\n",
    "v_asteroid=20 #Velocidad\n",
    "s_asteroid=50 #Tamaño\n",
    "\n",
    "if v_asteroid>25 and s_asteroid>25:\n",
    "    print(\"¡Peligro! Se aproxima un asteroide de gran tamaño muy rápido\")\n",
    "elif v_asteroid>=20:\n",
    "    print(\"¡Voltea al cielo! Es posible que veas un rayo.\")\n",
    "elif s_asteroid<25:\n",
    "    print(\"No pasa nada.\")\n",
    "else:\n",
    "    print(\"No pasa nada.\")"
   ]
  }
 ],
 "metadata": {
  "interpreter": {
   "hash": "0c01c94f00e05f258e1f0f6862ac1674752e98a4fc47b7b67a9d9c83d4de7d20"
  },
  "kernelspec": {
   "display_name": "Python 3.10.2 64-bit",
   "language": "python",
   "name": "python3"
  },
  "language_info": {
   "codemirror_mode": {
    "name": "ipython",
    "version": 3
   },
   "file_extension": ".py",
   "mimetype": "text/x-python",
   "name": "python",
   "nbconvert_exporter": "python",
   "pygments_lexer": "ipython3",
   "version": "3.10.2"
  },
  "orig_nbformat": 4
 },
 "nbformat": 4,
 "nbformat_minor": 2
}
