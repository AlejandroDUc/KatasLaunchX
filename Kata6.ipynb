{
 "cells": [
  {
   "cell_type": "markdown",
   "metadata": {},
   "source": [
    "Ejercicio1: Crear y usar listas de Python"
   ]
  },
  {
   "cell_type": "code",
   "execution_count": 13,
   "metadata": {},
   "outputs": [
    {
     "name": "stdout",
     "output_type": "stream",
     "text": [
      "Existen 8 planetas en el Sistema Solar.\n",
      "El último planeta es:  Plutón\n"
     ]
    }
   ],
   "source": [
    "#Crear y mostrar lista de planetas\n",
    "planetas=[\"Mercurio\",\"Venus\",\"Tierra\", \"Marte\",\"Júpiter\", \"Saturno\", \"Urano\", \"Neptuno\"]\n",
    "print(\"Existen\", len(planetas), \"planetas en el Sistema Solar.\")\n",
    "#Agregar Plutón\n",
    "planetas.append(\"Plutón\")\n",
    "print(\"El último planeta es: \", planetas[-1])\n"
   ]
  },
  {
   "cell_type": "markdown",
   "metadata": {},
   "source": [
    "Ejercicio 2: Trabajando con datos de una lista"
   ]
  },
  {
   "cell_type": "code",
   "execution_count": 14,
   "metadata": {},
   "outputs": [
    {
     "name": "stdout",
     "output_type": "stream",
     "text": [
      "Los Planetas más cercanos al Sol que  Venus  son:  ['Mercury']\n",
      "Los Planetas más alejados del Sol que  Venus  son:  ['Earth', 'Mars', 'Jupiter', 'Saturn', 'Neptune']\n"
     ]
    }
   ],
   "source": [
    "#Crear lista de planetas\n",
    "planets = ['Mercury', 'Venus', 'Earth', 'Mars', 'Jupiter', 'Saturn', 'Neptune']\n",
    "\n",
    "#Solicitar nombre de un planeta:\n",
    "input_planet=input(\"Please enter the name of a planet\").title()\n",
    "#Encontrar el índice del planeta ingresado\n",
    "input_index=planets.index(input_planet)\n",
    "#Planetas más cercanos al Sol.\n",
    "print(\"Los Planetas más cercanos al Sol que \",planets[input_index],\" son: \", planets[0:input_index] )\n",
    "#Planetas más alejados del Sol.\n",
    "print(\"Los Planetas más alejados del Sol que \",planets[input_index],\" son: \", planets[input_index+1:] )\n",
    "\n",
    "\n"
   ]
  }
 ],
 "metadata": {
  "interpreter": {
   "hash": "0c01c94f00e05f258e1f0f6862ac1674752e98a4fc47b7b67a9d9c83d4de7d20"
  },
  "kernelspec": {
   "display_name": "Python 3.10.2 64-bit",
   "language": "python",
   "name": "python3"
  },
  "language_info": {
   "codemirror_mode": {
    "name": "ipython",
    "version": 3
   },
   "file_extension": ".py",
   "mimetype": "text/x-python",
   "name": "python",
   "nbconvert_exporter": "python",
   "pygments_lexer": "ipython3",
   "version": "3.10.2"
  },
  "orig_nbformat": 4
 },
 "nbformat": 4,
 "nbformat_minor": 2
}
