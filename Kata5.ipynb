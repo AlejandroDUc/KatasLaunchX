{
 "cells": [
  {
   "cell_type": "markdown",
   "metadata": {},
   "source": [
    "Ejercicio 1 - Utilizar operadores ariméticos"
   ]
  },
  {
   "cell_type": "code",
   "execution_count": 3,
   "metadata": {},
   "outputs": [
    {
     "name": "stdout",
     "output_type": "stream",
     "text": [
      "628949330\n",
      "390577534\n"
     ]
    }
   ],
   "source": [
    "dp1=149597870 #km\n",
    "dp2=778547200 #km\n",
    "\n",
    "#distancia en km\n",
    "dp12=dp2-dp1\n",
    "miles12=round(dp12*0.621)\n",
    "\n",
    "print(dp12)\n",
    "print(miles12)\n"
   ]
  },
  {
   "cell_type": "markdown",
   "metadata": {},
   "source": [
    "Ejercicio 2: convierte cadenas en números y usa valores absolutos"
   ]
  },
  {
   "cell_type": "code",
   "execution_count": 3,
   "metadata": {},
   "outputs": [
    {
     "name": "stdout",
     "output_type": "stream",
     "text": [
      "La distancia entre los planetas es de  220  km.\n",
      "La distancia entre los planetas es de  136.62 millas.\n"
     ]
    }
   ],
   "source": [
    "#Solicitar y almacenar entradas\n",
    "dist1=input(\"Por favor introduce la distancia desde Sol del Planeta 1 (en km)\")\n",
    "dist2=input(\"Por favor introduce la distancia desde Sol del Planeta 2 (en km)\")\n",
    "#Convertir a enteros\n",
    "idist1=abs(int(dist1))\n",
    "idist2=abs(int(dist2))\n",
    "#Obtener distancia entre planetas\n",
    "KmAmong=abs(idist1-idist2)\n",
    "#Convertir a millas\n",
    "MiAmong=KmAmong*0.621\n",
    "\n",
    "print(\"La distancia entre los planetas es de \", KmAmong, \" km.\")\n",
    "print(\"La distancia entre los planetas es de \", MiAmong, \"millas.\")\n",
    "\n"
   ]
  }
 ],
 "metadata": {
  "interpreter": {
   "hash": "0c01c94f00e05f258e1f0f6862ac1674752e98a4fc47b7b67a9d9c83d4de7d20"
  },
  "kernelspec": {
   "display_name": "Python 3.10.2 64-bit",
   "language": "python",
   "name": "python3"
  },
  "language_info": {
   "codemirror_mode": {
    "name": "ipython",
    "version": 3
   },
   "file_extension": ".py",
   "mimetype": "text/x-python",
   "name": "python",
   "nbconvert_exporter": "python",
   "pygments_lexer": "ipython3",
   "version": "3.10.2"
  },
  "orig_nbformat": 4
 },
 "nbformat": 4,
 "nbformat_minor": 2
}
