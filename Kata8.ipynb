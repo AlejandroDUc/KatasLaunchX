{
 "cells": [
  {
   "cell_type": "markdown",
   "metadata": {},
   "source": [
    "\n",
    "Ejercicio 1: Creación de diccionarios de Python"
   ]
  },
  {
   "cell_type": "code",
   "execution_count": 1,
   "metadata": {},
   "outputs": [
    {
     "name": "stdout",
     "output_type": "stream",
     "text": [
      "Mars has 2 moons.\n",
      "Mars has a polar circumference of 6752 km.\n"
     ]
    }
   ],
   "source": [
    "#Diccionario\n",
    "planet={\n",
    "    'name': 'Mars',\n",
    "    'moons':2\n",
    "}\n",
    "#Mostrar valores\n",
    "print(f\"{planet.get('name')} has {planet['moons']} moons.\")\n",
    "\n",
    "#Agregar un valor:\n",
    "\n",
    "planet['circumference (km)']= {\n",
    "    'polar':6752,\n",
    "    'equatorial':6792\n",
    "}\n",
    "\n",
    "print(f\"{planet['name']} has a polar circumference of {planet['circumference (km)']['polar']} km.\")\n",
    "\n",
    "\n",
    "\n",
    "\n"
   ]
  },
  {
   "cell_type": "markdown",
   "metadata": {},
   "source": [
    "\n",
    "Ejercicio 2: Programación dinámica con diccionarios"
   ]
  },
  {
   "cell_type": "code",
   "execution_count": 2,
   "metadata": {},
   "outputs": [
    {
     "name": "stdout",
     "output_type": "stream",
     "text": [
      "There is a total of 214 moons in the solar system. Considering the 12 planets, there is an average of 17.833333333333332 moons per planet.\n"
     ]
    }
   ],
   "source": [
    "# Planets and moons\n",
    "\n",
    "planet_moons = {\n",
    "    'mercury': 0,\n",
    "    'venus': 0,\n",
    "    'earth': 1,\n",
    "    'mars': 2,\n",
    "    'jupiter': 79,\n",
    "    'saturn': 82,\n",
    "    'uranus': 27,\n",
    "    'neptune': 14,\n",
    "    'pluto': 5,\n",
    "    'haumea': 2,\n",
    "    'makemake': 1,\n",
    "    'eris': 1\n",
    "}\n",
    "\n",
    "#Almacenar valores\n",
    "moons=planet_moons.values()\n",
    "#Almacenar número de planetas\n",
    "planets=len(planet_moons.keys())\n",
    "\n",
    "#Contar total de lunas\n",
    "total_moons=0\n",
    "for NumberOfMoons in moons:\n",
    "    total_moons=total_moons+NumberOfMoons\n",
    "\n",
    "average_moons=total_moons/planets\n",
    "\n",
    "print(f\"There is a total of {total_moons} moons in the solar system. Considering the {planets} planets, there is an average of {average_moons} moons per planet.\")\n",
    "\n",
    "\n",
    "\n"
   ]
  }
 ],
 "metadata": {
  "interpreter": {
   "hash": "0c01c94f00e05f258e1f0f6862ac1674752e98a4fc47b7b67a9d9c83d4de7d20"
  },
  "kernelspec": {
   "display_name": "Python 3.10.2 64-bit",
   "language": "python",
   "name": "python3"
  },
  "language_info": {
   "codemirror_mode": {
    "name": "ipython",
    "version": 3
   },
   "file_extension": ".py",
   "mimetype": "text/x-python",
   "name": "python",
   "nbconvert_exporter": "python",
   "pygments_lexer": "ipython3",
   "version": "3.10.2"
  },
  "orig_nbformat": 4
 },
 "nbformat": 4,
 "nbformat_minor": 2
}
