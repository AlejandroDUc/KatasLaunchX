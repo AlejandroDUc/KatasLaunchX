{
 "cells": [
  {
   "cell_type": "markdown",
   "metadata": {},
   "source": [
    "Ejercicio 1: Transformar cadenas"
   ]
  },
  {
   "cell_type": "code",
   "execution_count": 37,
   "metadata": {},
   "outputs": [
    {
     "name": "stdout",
     "output_type": "stream",
     "text": [
      "['Interesting facts about the Moon', \"The Moon is Earth's only satellite\", 'There are several interesting facts about the Moon and how it affects life here on Earth', '\\nOn average, the Moon moves 4cm away from the Earth every year', 'This yearly drift is not significant enough to cause immediate effects on Earth', 'The highest daylight temperature of the Moon is 127 C.']\n",
      "\n",
      "On average, the Moon moves 4cm away from the Earth every year\n",
      "The highest daylight temperature of the Moon is 127 C.\n",
      "\n",
      "On average, the Moon moves 4cm away from the Earth every year\n",
      "The highest daylight temperature of the Moon is 127 Celsius.\n"
     ]
    }
   ],
   "source": [
    "text = \"\"\"Interesting facts about the Moon. The Moon is Earth's only satellite. There are several interesting facts about the Moon and how it affects life here on Earth. \n",
    "On average, the Moon moves 4cm away from the Earth every year. This yearly drift is not significant enough to cause immediate effects on Earth. The highest daylight temperature of the Moon is 127 C.\"\"\"\n",
    "\n",
    "#Dividir texto\n",
    "div=text.split('. ')\n",
    "print(div)\n",
    "\n",
    "pistas=['average','temperature','distance']\n",
    "\n",
    "#Imprimir frases con palabras clave\n",
    "for frase in div:\n",
    "    for palabra in pistas:\n",
    "        if palabra in frase:\n",
    "            print(frase)\n",
    "\n",
    "#Imprimir frases con palabras clave, reemplazando C por Celsius\n",
    "for frase in div:\n",
    "    for palabra in pistas:\n",
    "        if palabra in frase:\n",
    "            print(frase.replace(\"C\",\"Celsius\"))\n",
    "\n",
    "    \n",
    "\n",
    "\n",
    "\n",
    "    \n"
   ]
  },
  {
   "cell_type": "markdown",
   "metadata": {},
   "source": [
    "Ejercicio 2"
   ]
  },
  {
   "cell_type": "code",
   "execution_count": 36,
   "metadata": {},
   "outputs": [
    {
     "name": "stdout",
     "output_type": "stream",
     "text": [
      "Gravity Facts About Moon\n",
      "--------------------------------------------------------------------------------\n",
      "Planet Name: Earth\n",
      "Gravity in Moon: 1.6199999999999999 m/s^2\n",
      "\n",
      "Gravity Facts About Ganymede \n",
      "--------------------------------------------------------------------------------\n",
      "Planet Name: Mars\n",
      "Gravity in Ganymede: 1.4300000000000002 m/s^2\n",
      "\n"
     ]
    }
   ],
   "source": [
    "# Datos con los que vas a trabajar\n",
    "name = \"Moon\"\n",
    "gravity = 0.00162 # in kms\n",
    "planet = \"Earth\"\n",
    "\n",
    "#Creación del título\n",
    "title=f\"Gravity facts about {name}\".title()\n",
    "#Creación de plantilla\n",
    "template=f\"\"\"{'-'*80}\n",
    "Planet Name: {planet}\n",
    "Gravity in {name}: {gravity*1000} m/s^2\"\"\"\n",
    "\n",
    "#Unir\n",
    "output=f\"\"\"{title}\n",
    "{template}\n",
    "\"\"\"\n",
    "print(output)\n",
    "\n",
    "#Probar con nuevas variables\n",
    "planet = 'Mars'\n",
    "gravity  = 0.00143\n",
    "name = 'Ganymede'\n",
    "\n",
    "#2da versión del template. Método format.\n",
    "template2=\"\"\"Gravity Facts About {name} \n",
    "{separator}\n",
    "Planet Name: {planet}\n",
    "Gravity in {name}: {gravity} m/s^2\n",
    "\"\"\"\n",
    "#Resultado\n",
    "print(template2.format(name=name,separator=\"-\"*80,planet=planet,gravity=gravity*1000))\n"
   ]
  }
 ],
 "metadata": {
  "interpreter": {
   "hash": "0c01c94f00e05f258e1f0f6862ac1674752e98a4fc47b7b67a9d9c83d4de7d20"
  },
  "kernelspec": {
   "display_name": "Python 3.10.2 64-bit",
   "language": "python",
   "name": "python3"
  },
  "language_info": {
   "codemirror_mode": {
    "name": "ipython",
    "version": 3
   },
   "file_extension": ".py",
   "mimetype": "text/x-python",
   "name": "python",
   "nbconvert_exporter": "python",
   "pygments_lexer": "ipython3",
   "version": "3.10.2"
  },
  "orig_nbformat": 4
 },
 "nbformat": 4,
 "nbformat_minor": 2
}
