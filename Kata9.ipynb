{
 "cells": [
  {
   "cell_type": "markdown",
   "metadata": {},
   "source": [
    "Ejercicio 1: Uso de funciones en Python"
   ]
  },
  {
   "cell_type": "code",
   "execution_count": 16,
   "metadata": {},
   "outputs": [
    {
     "name": "stdout",
     "output_type": "stream",
     "text": [
      "Fuel level report:\n",
      "    Average fuel level: 30.0\n",
      "    Tank 1: 20\n",
      "    Tank 2: 50 \n",
      "    Tank 3: 20\n",
      "    \n",
      "Fuel level report:\n",
      "    Average fuel level: 30.0\n",
      "    Tank 1: 20\n",
      "    Tank 2: 50 \n",
      "    Tank 3: 20\n",
      "    \n"
     ]
    }
   ],
   "source": [
    "#definir función, 3 argumentos\n",
    "def fuel_report(level1,level2,level3):\n",
    "    average=(level1+level2+level3)/3\n",
    "    report=(f\"\"\"Fuel level report:\n",
    "    Average fuel level: {average}\n",
    "    Tank 1: {level1}\n",
    "    Tank 2: {level2} \n",
    "    Tank 3: {level3}\n",
    "    \"\"\")\n",
    "    return report\n",
    "\n",
    "#llamar a la función\n",
    "print(fuel_report(20,50,20))\n",
    "\n",
    "#promedio\n",
    "\n",
    "def average(*args):\n",
    "    total_sum=sum(args)\n",
    "    num_elements=len(args)\n",
    "    ave=total_sum/num_elements\n",
    "    return ave\n",
    "\n",
    "\n",
    "#actualizar función\n",
    "def fuel_reportv2(level1,level2,level3):\n",
    "    ave=average(level1,level2,level3)\n",
    "    report=(f\"\"\"Fuel level report:\n",
    "    Average fuel level: {ave}\n",
    "    Tank 1: {level1}\n",
    "    Tank 2: {level2} \n",
    "    Tank 3: {level3}\n",
    "    \"\"\")\n",
    "    return report\n",
    "\n",
    "\n",
    "print(fuel_reportv2(20,50,20))\n",
    "\n",
    "\n",
    "\n",
    "\n",
    "\n",
    "\n"
   ]
  },
  {
   "cell_type": "markdown",
   "metadata": {},
   "source": [
    "\n",
    "Ejercicio 2: Trabajo con argumentos de palabra clave"
   ]
  },
  {
   "cell_type": "code",
   "execution_count": 29,
   "metadata": {},
   "outputs": [
    {
     "name": "stdout",
     "output_type": "stream",
     "text": [
      "Informe preciso de la misión\n",
      "Tiempo de prelanzamiento: 50\n",
      "Tiempo de vuelo: 50\n",
      "Destino: Marte\n",
      "Tanque externo: 100\n",
      "Tanque interno: 100\n",
      "Combustible total: 200\n",
      "    \n",
      "Informe preciso de la misión\n",
      "Destino: Marte\n",
      "Tiempo de vuelo: 41\n",
      "Combustible total: 211\n",
      "\n",
      "Informe preciso de la misión\n",
      "Destino: Marte\n",
      "Tiempo de vuelo: 12\n",
      "Combustible total: 6\n",
      "tanque1: 1\n",
      "tanque2: 2\n",
      "tanque3: 3\n",
      "\n"
     ]
    }
   ],
   "source": [
    "# Función con un informe preciso de la misión. Considera hora de prelanzamiento, tiempo de vuelo, destino, tanque externo y tanque interno\n",
    "\n",
    "def informe_preciso(prelaunch_time,flight_time,destination,external_tank,internal_tank):\n",
    "    report=f\"\"\"Informe preciso de la misión\n",
    "Tiempo de prelanzamiento: {prelaunch_time}\n",
    "Tiempo de vuelo: {flight_time}\n",
    "Destino: {destination}\n",
    "Tanque externo: {external_tank}\n",
    "Tanque interno: {internal_tank}\n",
    "Combustible total: {internal_tank+external_tank}\n",
    "    \"\"\"\n",
    "    return report\n",
    "\n",
    "print(informe_preciso(50,50,\"Marte\",100,100))\n",
    "\n",
    "def informe_precisov2(destination,*time,**fuel_levels):\n",
    "    report=f\"\"\"Informe preciso de la misión\n",
    "Destino: {destination}\n",
    "Tiempo de vuelo: {sum(time)}\n",
    "Combustible total: {sum(fuel_levels.values())}\n",
    "\"\"\"\n",
    "    return report\n",
    "\n",
    "print(informe_precisov2(\"Marte\",2,4,6,8,10,1,1,1,1,1,1,1,1,1,1,1, tanque_1=1, tanque_2=10, tanque_3=200))\n",
    "\n",
    "def informe_precisov3(destination,*time,**fuel_levels):\n",
    "    report=f\"\"\"Informe preciso de la misión\n",
    "Destino: {destination}\n",
    "Tiempo de vuelo: {sum(time)}\n",
    "Combustible total: {sum(fuel_levels.values())}\n",
    "\"\"\"\n",
    "    for tank,value in fuel_levels.items():\n",
    "        report+= f\"{tank}: {value}\\n\"\n",
    "\n",
    "    return report\n",
    "\n",
    "print(informe_precisov3(\"Marte\",2,5,5,tanque1=1,tanque2=2,tanque3=3))\n"
   ]
  },
  {
   "cell_type": "markdown",
   "metadata": {},
   "source": []
  }
 ],
 "metadata": {
  "interpreter": {
   "hash": "0c01c94f00e05f258e1f0f6862ac1674752e98a4fc47b7b67a9d9c83d4de7d20"
  },
  "kernelspec": {
   "display_name": "Python 3.10.2 64-bit",
   "language": "python",
   "name": "python3"
  },
  "language_info": {
   "codemirror_mode": {
    "name": "ipython",
    "version": 3
   },
   "file_extension": ".py",
   "mimetype": "text/x-python",
   "name": "python",
   "nbconvert_exporter": "python",
   "pygments_lexer": "ipython3",
   "version": "3.10.2"
  },
  "orig_nbformat": 4
 },
 "nbformat": 4,
 "nbformat_minor": 2
}
